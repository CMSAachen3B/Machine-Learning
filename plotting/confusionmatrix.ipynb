{
 "cells": [
  {
   "cell_type": "markdown",
   "metadata": {},
   "source": [
    "This python script shows a basic implementation of calculating and plotting a confusion matrix after a multiclassification training with keras.\n",
    "First basic libraries has to be included: "
   ]
  },
  {
   "cell_type": "code",
   "execution_count": 1,
   "metadata": {},
   "outputs": [],
   "source": [
    "import numpy as np\n",
    "import matplotlib.pyplot as plt\n",
    "import json\n",
    "import os\n",
    "import yaml"
   ]
  },
  {
   "cell_type": "markdown",
   "metadata": {},
   "source": [
    "Load the training model from keras for a specified fold:"
   ]
  },
  {
   "cell_type": "code",
   "execution_count": 2,
   "metadata": {},
   "outputs": [
    {
     "name": "stderr",
     "output_type": "stream",
     "text": [
      "Using TensorFlow backend.\n"
     ]
    }
   ],
   "source": [
    "FOLD = 0\n",
    "\n",
    "from keras.models import load_model\n",
    "model = load_model(\n",
    "    '/home/peter/Machine-Learning/fold{}_multiclass_model.h5'.format(FOLD))"
   ]
  },
  {
   "cell_type": "markdown",
   "metadata": {},
   "source": [
    "Plot the imported model:"
   ]
  },
  {
   "cell_type": "code",
   "execution_count": 3,
   "metadata": {},
   "outputs": [
    {
     "data": {
      "image/svg+xml": [
       "<svg height=\"702pt\" viewBox=\"0.00 0.00 171.00 702.00\" width=\"171pt\" xmlns=\"http://www.w3.org/2000/svg\" xmlns:xlink=\"http://www.w3.org/1999/xlink\">\n",
       "<g class=\"graph\" id=\"graph0\" transform=\"scale(1 1) rotate(0) translate(4 698)\">\n",
       "<title>G</title>\n",
       "<polygon fill=\"white\" points=\"-4,4 -4,-698 167,-698 167,4 -4,4\" stroke=\"none\"/>\n",
       "<!-- 140378947618576 -->\n",
       "<g class=\"node\" id=\"node1\"><title>140378947618576</title>\n",
       "<polygon fill=\"none\" points=\"0,-657.5 0,-693.5 163,-693.5 163,-657.5 0,-657.5\" stroke=\"black\"/>\n",
       "<text font-family=\"Times,serif\" font-size=\"14.00\" text-anchor=\"middle\" x=\"81.5\" y=\"-671.8\">dense_1_input: InputLayer</text>\n",
       "</g>\n",
       "<!-- 140378947618640 -->\n",
       "<g class=\"node\" id=\"node2\"><title>140378947618640</title>\n",
       "<polygon fill=\"none\" points=\"30.5,-584.5 30.5,-620.5 132.5,-620.5 132.5,-584.5 30.5,-584.5\" stroke=\"black\"/>\n",
       "<text font-family=\"Times,serif\" font-size=\"14.00\" text-anchor=\"middle\" x=\"81.5\" y=\"-598.8\">dense_1: Dense</text>\n",
       "</g>\n",
       "<!-- 140378947618576&#45;&gt;140378947618640 -->\n",
       "<g class=\"edge\" id=\"edge1\"><title>140378947618576-&gt;140378947618640</title>\n",
       "<path d=\"M81.5,-657.313C81.5,-649.289 81.5,-639.547 81.5,-630.569\" fill=\"none\" stroke=\"black\"/>\n",
       "<polygon fill=\"black\" points=\"85.0001,-630.529 81.5,-620.529 78.0001,-630.529 85.0001,-630.529\" stroke=\"black\"/>\n",
       "</g>\n",
       "<!-- 140378947619024 -->\n",
       "<g class=\"node\" id=\"node3\"><title>140378947619024</title>\n",
       "<polygon fill=\"none\" points=\"7.5,-511.5 7.5,-547.5 155.5,-547.5 155.5,-511.5 7.5,-511.5\" stroke=\"black\"/>\n",
       "<text font-family=\"Times,serif\" font-size=\"14.00\" text-anchor=\"middle\" x=\"81.5\" y=\"-525.8\">activation_1: Activation</text>\n",
       "</g>\n",
       "<!-- 140378947618640&#45;&gt;140378947619024 -->\n",
       "<g class=\"edge\" id=\"edge2\"><title>140378947618640-&gt;140378947619024</title>\n",
       "<path d=\"M81.5,-584.313C81.5,-576.289 81.5,-566.547 81.5,-557.569\" fill=\"none\" stroke=\"black\"/>\n",
       "<polygon fill=\"black\" points=\"85.0001,-557.529 81.5,-547.529 78.0001,-557.529 85.0001,-557.529\" stroke=\"black\"/>\n",
       "</g>\n",
       "<!-- 140378947317648 -->\n",
       "<g class=\"node\" id=\"node4\"><title>140378947317648</title>\n",
       "<polygon fill=\"none\" points=\"19,-438.5 19,-474.5 144,-474.5 144,-438.5 19,-438.5\" stroke=\"black\"/>\n",
       "<text font-family=\"Times,serif\" font-size=\"14.00\" text-anchor=\"middle\" x=\"81.5\" y=\"-452.8\">dropout_1: Dropout</text>\n",
       "</g>\n",
       "<!-- 140378947619024&#45;&gt;140378947317648 -->\n",
       "<g class=\"edge\" id=\"edge3\"><title>140378947619024-&gt;140378947317648</title>\n",
       "<path d=\"M81.5,-511.313C81.5,-503.289 81.5,-493.547 81.5,-484.569\" fill=\"none\" stroke=\"black\"/>\n",
       "<polygon fill=\"black\" points=\"85.0001,-484.529 81.5,-474.529 78.0001,-484.529 85.0001,-484.529\" stroke=\"black\"/>\n",
       "</g>\n",
       "<!-- 140378946916624 -->\n",
       "<g class=\"node\" id=\"node5\"><title>140378946916624</title>\n",
       "<polygon fill=\"none\" points=\"30.5,-365.5 30.5,-401.5 132.5,-401.5 132.5,-365.5 30.5,-365.5\" stroke=\"black\"/>\n",
       "<text font-family=\"Times,serif\" font-size=\"14.00\" text-anchor=\"middle\" x=\"81.5\" y=\"-379.8\">dense_2: Dense</text>\n",
       "</g>\n",
       "<!-- 140378947317648&#45;&gt;140378946916624 -->\n",
       "<g class=\"edge\" id=\"edge4\"><title>140378947317648-&gt;140378946916624</title>\n",
       "<path d=\"M81.5,-438.313C81.5,-430.289 81.5,-420.547 81.5,-411.569\" fill=\"none\" stroke=\"black\"/>\n",
       "<polygon fill=\"black\" points=\"85.0001,-411.529 81.5,-401.529 78.0001,-411.529 85.0001,-411.529\" stroke=\"black\"/>\n",
       "</g>\n",
       "<!-- 140378947046544 -->\n",
       "<g class=\"node\" id=\"node6\"><title>140378947046544</title>\n",
       "<polygon fill=\"none\" points=\"7.5,-292.5 7.5,-328.5 155.5,-328.5 155.5,-292.5 7.5,-292.5\" stroke=\"black\"/>\n",
       "<text font-family=\"Times,serif\" font-size=\"14.00\" text-anchor=\"middle\" x=\"81.5\" y=\"-306.8\">activation_2: Activation</text>\n",
       "</g>\n",
       "<!-- 140378946916624&#45;&gt;140378947046544 -->\n",
       "<g class=\"edge\" id=\"edge5\"><title>140378946916624-&gt;140378947046544</title>\n",
       "<path d=\"M81.5,-365.313C81.5,-357.289 81.5,-347.547 81.5,-338.569\" fill=\"none\" stroke=\"black\"/>\n",
       "<polygon fill=\"black\" points=\"85.0001,-338.529 81.5,-328.529 78.0001,-338.529 85.0001,-338.529\" stroke=\"black\"/>\n",
       "</g>\n",
       "<!-- 140378947043792 -->\n",
       "<g class=\"node\" id=\"node7\"><title>140378947043792</title>\n",
       "<polygon fill=\"none\" points=\"19,-219.5 19,-255.5 144,-255.5 144,-219.5 19,-219.5\" stroke=\"black\"/>\n",
       "<text font-family=\"Times,serif\" font-size=\"14.00\" text-anchor=\"middle\" x=\"81.5\" y=\"-233.8\">dropout_2: Dropout</text>\n",
       "</g>\n",
       "<!-- 140378947046544&#45;&gt;140378947043792 -->\n",
       "<g class=\"edge\" id=\"edge6\"><title>140378947046544-&gt;140378947043792</title>\n",
       "<path d=\"M81.5,-292.313C81.5,-284.289 81.5,-274.547 81.5,-265.569\" fill=\"none\" stroke=\"black\"/>\n",
       "<polygon fill=\"black\" points=\"85.0001,-265.529 81.5,-255.529 78.0001,-265.529 85.0001,-265.529\" stroke=\"black\"/>\n",
       "</g>\n",
       "<!-- 140378946380432 -->\n",
       "<g class=\"node\" id=\"node8\"><title>140378946380432</title>\n",
       "<polygon fill=\"none\" points=\"30.5,-146.5 30.5,-182.5 132.5,-182.5 132.5,-146.5 30.5,-146.5\" stroke=\"black\"/>\n",
       "<text font-family=\"Times,serif\" font-size=\"14.00\" text-anchor=\"middle\" x=\"81.5\" y=\"-160.8\">dense_3: Dense</text>\n",
       "</g>\n",
       "<!-- 140378947043792&#45;&gt;140378946380432 -->\n",
       "<g class=\"edge\" id=\"edge7\"><title>140378947043792-&gt;140378946380432</title>\n",
       "<path d=\"M81.5,-219.313C81.5,-211.289 81.5,-201.547 81.5,-192.569\" fill=\"none\" stroke=\"black\"/>\n",
       "<polygon fill=\"black\" points=\"85.0001,-192.529 81.5,-182.529 78.0001,-192.529 85.0001,-192.529\" stroke=\"black\"/>\n",
       "</g>\n",
       "<!-- 140378946485392 -->\n",
       "<g class=\"node\" id=\"node9\"><title>140378946485392</title>\n",
       "<polygon fill=\"none\" points=\"7.5,-73.5 7.5,-109.5 155.5,-109.5 155.5,-73.5 7.5,-73.5\" stroke=\"black\"/>\n",
       "<text font-family=\"Times,serif\" font-size=\"14.00\" text-anchor=\"middle\" x=\"81.5\" y=\"-87.8\">activation_3: Activation</text>\n",
       "</g>\n",
       "<!-- 140378946380432&#45;&gt;140378946485392 -->\n",
       "<g class=\"edge\" id=\"edge8\"><title>140378946380432-&gt;140378946485392</title>\n",
       "<path d=\"M81.5,-146.313C81.5,-138.289 81.5,-128.547 81.5,-119.569\" fill=\"none\" stroke=\"black\"/>\n",
       "<polygon fill=\"black\" points=\"85.0001,-119.529 81.5,-109.529 78.0001,-119.529 85.0001,-119.529\" stroke=\"black\"/>\n",
       "</g>\n",
       "<!-- 140378946482448 -->\n",
       "<g class=\"node\" id=\"node10\"><title>140378946482448</title>\n",
       "<polygon fill=\"none\" points=\"30.5,-0.5 30.5,-36.5 132.5,-36.5 132.5,-0.5 30.5,-0.5\" stroke=\"black\"/>\n",
       "<text font-family=\"Times,serif\" font-size=\"14.00\" text-anchor=\"middle\" x=\"81.5\" y=\"-14.8\">dense_4: Dense</text>\n",
       "</g>\n",
       "<!-- 140378946485392&#45;&gt;140378946482448 -->\n",
       "<g class=\"edge\" id=\"edge9\"><title>140378946485392-&gt;140378946482448</title>\n",
       "<path d=\"M81.5,-73.3129C81.5,-65.2895 81.5,-55.5475 81.5,-46.5691\" fill=\"none\" stroke=\"black\"/>\n",
       "<polygon fill=\"black\" points=\"85.0001,-46.5288 81.5,-36.5288 78.0001,-46.5289 85.0001,-46.5288\" stroke=\"black\"/>\n",
       "</g>\n",
       "</g>\n",
       "</svg>"
      ],
      "text/plain": [
       "<IPython.core.display.SVG object>"
      ]
     },
     "execution_count": 3,
     "metadata": {},
     "output_type": "execute_result"
    }
   ],
   "source": [
    "from IPython.display import SVG\n",
    "from keras.utils.vis_utils import model_to_dot\n",
    "\n",
    "SVG(model_to_dot(model).create(prog='dot', format='svg'))"
   ]
  },
  {
   "cell_type": "markdown",
   "metadata": {},
   "source": [
    "Load the testing data created in the training step:"
   ]
  },
  {
   "cell_type": "code",
   "execution_count": 4,
   "metadata": {},
   "outputs": [],
   "source": [
    "# load testing data\n",
    "x_test = np.load(\n",
    "    '../arrays/x_test_fold{}.npy'.format(FOLD))\n",
    "y_test = np.load(\n",
    "    '../arrays/y_test_fold{}.npy'.format(FOLD))"
   ]
  },
  {
   "cell_type": "markdown",
   "metadata": {},
   "source": [
    "Apply the same transformations to testing data as to the training set:"
   ]
  },
  {
   "cell_type": "code",
   "execution_count": null,
   "metadata": {},
   "outputs": [],
   "source": [
    "# preprocessing\n",
    "from sklearn import preprocessing\n",
    "scaler = preprocessing.StandardScaler().fit(x_test)\n",
    "x_test_scaled = scaler.transform(x_test)"
   ]
  },
  {
   "cell_type": "markdown",
   "metadata": {},
   "source": [
    "Use the `predict(self, x, batch_size=32, verbose=0)` function to do predictions on the test sample with the trained model."
   ]
  },
  {
   "cell_type": "code",
   "execution_count": null,
   "metadata": {},
   "outputs": [
    {
     "name": "stdout",
     "output_type": "stream",
     "text": [
      "311328/945222 [========>.....................] - ETA: 54s"
     ]
    }
   ],
   "source": [
    "# predicted probabilities for the test set\n",
    "Yp = model.predict(x_test_scaled, verbose=1)"
   ]
  },
  {
   "cell_type": "markdown",
   "metadata": {},
   "source": [
    "Convert prediction array `Yp` from one-hot encoding to label:"
   ]
  },
  {
   "cell_type": "code",
   "execution_count": null,
   "metadata": {},
   "outputs": [],
   "source": [
    "# to label\n",
    "yp = np.argmax(Yp, axis=-1)\n",
    "y_test = np.argmax(y_test, axis=-1)"
   ]
  },
  {
   "cell_type": "markdown",
   "metadata": {},
   "source": [
    "Function for plotting normalized and unnormalized confusion matrices:"
   ]
  },
  {
   "cell_type": "code",
   "execution_count": null,
   "metadata": {},
   "outputs": [],
   "source": [
    "import itertools\n",
    "from sklearn.metrics import confusion_matrix\n",
    "\n",
    "\n",
    "def plot_confusion_matrix(cm, classes,\n",
    "                          normalize=False,\n",
    "                          title='Confusion matrix',\n",
    "                          cmap=plt.cm.Wistia):\n",
    "    \"\"\"\n",
    "    This function prints and plots the confusion matrix.\n",
    "    Normalization can be applied by setting `normalize=True`.\n",
    "    \"\"\"\n",
    "    if normalize:\n",
    "        cm = cm.astype('float') / cm.sum(axis=1)[:, np.newaxis]\n",
    "        print(\"Normalized confusion matrix\")\n",
    "    else:\n",
    "        print('Confusion matrix, without normalization')\n",
    "\n",
    "    print(cm)\n",
    "\n",
    "    plt.imshow(cm, interpolation='nearest', cmap=cmap)\n",
    "    plt.title(title)\n",
    "    plt.colorbar()\n",
    "    tick_marks = np.arange(len(classes))\n",
    "    plt.xticks(tick_marks, classes, rotation=45)\n",
    "    plt.yticks(tick_marks, classes)\n",
    "\n",
    "    fmt = '.2f' if normalize else 'd'\n",
    "    thresh = cm.max() / 2.\n",
    "    for i, j in itertools.product(range(cm.shape[0]), range(cm.shape[1])):\n",
    "        plt.text(j, i, format(cm[i, j], fmt),\n",
    "                 horizontalalignment=\"center\",\n",
    "                 color=\"white\" if cm[i, j] > thresh else \"black\")\n",
    "\n",
    "    plt.tight_layout()\n",
    "    plt.ylabel('True label')\n",
    "    plt.xlabel('Predicted label')"
   ]
  },
  {
   "cell_type": "code",
   "execution_count": null,
   "metadata": {},
   "outputs": [],
   "source": [
    "# Compute confusion matrix\n",
    "cnf_matrix = confusion_matrix(y_test, yp)\n",
    "np.set_printoptions(precision=2)"
   ]
  },
  {
   "cell_type": "markdown",
   "metadata": {},
   "source": [
    "Now you can plot the normalized and unnormalized confusions!"
   ]
  },
  {
   "cell_type": "code",
   "execution_count": null,
   "metadata": {},
   "outputs": [],
   "source": [
    "# Load config for classes\n",
    "config = yaml.load(open(\n",
    "    \"../config/MSSM_HWW.yaml\", \"r\"))"
   ]
  },
  {
   "cell_type": "code",
   "execution_count": null,
   "metadata": {},
   "outputs": [],
   "source": [
    "# Plot non-normalized confusion matrix\n",
    "plt.figure()\n",
    "plot_confusion_matrix(cnf_matrix, classes=config[\"classes\"],\n",
    "                      title='Confusion matrix, without normalization')\n",
    "\n",
    "# Plot normalized confusion matrix\n",
    "plt.figure()\n",
    "plot_confusion_matrix(cnf_matrix, classes=config[\"classes\"], normalize=True,\n",
    "                      title='Normalized confusion matrix')\n",
    "\n",
    "plt.show()"
   ]
  }
 ],
 "metadata": {
  "kernelspec": {
   "display_name": "Python 2",
   "language": "python",
   "name": "python2"
  },
  "language_info": {
   "codemirror_mode": {
    "name": "ipython",
    "version": 2
   },
   "file_extension": ".py",
   "mimetype": "text/x-python",
   "name": "python",
   "nbconvert_exporter": "python",
   "pygments_lexer": "ipython2",
   "version": "2.7.12"
  }
 },
 "nbformat": 4,
 "nbformat_minor": 2
}
